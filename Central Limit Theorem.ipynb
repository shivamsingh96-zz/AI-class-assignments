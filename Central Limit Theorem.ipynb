{
 "cells": [
  {
   "cell_type": "code",
   "execution_count": 2,
   "metadata": {},
   "outputs": [],
   "source": [
    "#import libraries\n",
    "\n",
    "import math\n",
    "import random\n",
    "import matplotlib.pyplot as plt\n"
   ]
  },
  {
   "cell_type": "markdown",
   "metadata": {},
   "source": [
    "We have to check the principle of Central Limit Theorem for repeated sampling 1000 times and when the population is binomially distributed."
   ]
  },
  {
   "cell_type": "code",
   "execution_count": 41,
   "metadata": {},
   "outputs": [],
   "source": [
    "# define a func to find the factorial of number\n",
    "\n",
    "def fact(x):\n",
    "    f=1\n",
    "    for i in range(1,x+1):\n",
    "        f=f*i\n",
    "    return f"
   ]
  },
  {
   "cell_type": "markdown",
   "metadata": {},
   "source": [
    "Now we have a population that is binomially distributed with p=0.7 and sample size=30 and we have to find CDF of this distribution."
   ]
  },
  {
   "cell_type": "code",
   "execution_count": 81,
   "metadata": {},
   "outputs": [],
   "source": [
    "l = []\n",
    "N = 30\n",
    "p = 0.7\n",
    "q = 1-p\n",
    "n = 1000\n",
    "\n",
    "# as from  the of binomial probability distribution function p(x=k)=NcK.p^k.(q)^k\n",
    "\n",
    "\n",
    "for i in range(0,n-1):\n",
    "    t = []\n",
    "    for j in range(0,N):\n",
    "        x = 0\n",
    "        u = random.uniform(0,1)\n",
    "        CDFProb = 0\n",
    "        while (CDFProb<=u):\n",
    "            CDFProb+=(fact(N)/(fact(x)*fact(N-x)))*((p)**x)*(q)**(N-x)\n",
    "            x+=1\n",
    "        t.append(x)\n",
    "        \n",
    "    l.append(t)"
   ]
  },
  {
   "cell_type": "markdown",
   "metadata": {},
   "source": [
    "Here we generate 1000 samples of 30 elements in 1 sample. now what we have to do is to apply the central limit theorem and then draw the sampling distribution so the thing we do is first find the mean of samples respectively"
   ]
  },
  {
   "cell_type": "code",
   "execution_count": 83,
   "metadata": {},
   "outputs": [],
   "source": [
    "mean=[] # this is the list of mean of all samples respectively\n",
    "for i in range(0,n-1):\n",
    "    k=0\n",
    "    for j in l[i]:\n",
    "        k+=j\n",
    "    k=k/N\n",
    "    mean.append(k)   \n"
   ]
  },
  {
   "cell_type": "code",
   "execution_count": 84,
   "metadata": {},
   "outputs": [
    {
     "data": {
      "text/plain": [
       "999"
      ]
     },
     "execution_count": 84,
     "metadata": {},
     "output_type": "execute_result"
    }
   ],
   "source": [
    "len(mean)"
   ]
  },
  {
   "cell_type": "code",
   "execution_count": 85,
   "metadata": {},
   "outputs": [],
   "source": [
    "mean.sort() #Here we sort all the value of mean "
   ]
  },
  {
   "cell_type": "markdown",
   "metadata": {},
   "source": [
    "now we proceed to calculate the frequency of mean so for this we have to find the unique numbers and then calculate the frequency of all means."
   ]
  },
  {
   "cell_type": "code",
   "execution_count": 86,
   "metadata": {},
   "outputs": [],
   "source": [
    "unique=[]\n",
    "for i in range (0,len(mean)-1):\n",
    "    if mean[i]!=mean[i+1]:\n",
    "        unique.append(mean[i])\n",
    "unique.append(mean[i+1])\n"
   ]
  },
  {
   "cell_type": "code",
   "execution_count": 87,
   "metadata": {},
   "outputs": [
    {
     "data": {
      "text/plain": [
       "77"
      ]
     },
     "execution_count": 87,
     "metadata": {},
     "output_type": "execute_result"
    }
   ],
   "source": [
    "len(unique)"
   ]
  },
  {
   "cell_type": "code",
   "execution_count": 88,
   "metadata": {},
   "outputs": [],
   "source": [
    "frequency=[1]*len(unique)\n",
    "count=0\n",
    "for i in range(0,len(mean)-1):\n",
    "    if mean[i]==mean[i+1]:\n",
    "        frequency[count]+=1\n",
    "    else:\n",
    "        count+=1"
   ]
  },
  {
   "cell_type": "code",
   "execution_count": 89,
   "metadata": {},
   "outputs": [
    {
     "data": {
      "text/plain": [
       "77"
      ]
     },
     "execution_count": 89,
     "metadata": {},
     "output_type": "execute_result"
    }
   ],
   "source": [
    "len(frequency)"
   ]
  },
  {
   "cell_type": "code",
   "execution_count": 104,
   "metadata": {},
   "outputs": [
    {
     "data": {
      "text/plain": [
       "<BarContainer object of 77 artists>"
      ]
     },
     "execution_count": 104,
     "metadata": {},
     "output_type": "execute_result"
    },
    {
     "data": {
      "image/png": "[encoded data removed]",
      "text/plain": [
       "<Figure size 432x288 with 1 Axes>"
      ]
     },
     "metadata": {},
     "output_type": "display_data"
    }
   ],
   "source": [
    "plt.bar(unique,frequency,0.05)\n",
    "#This is the plot of mean of all samples and frequency of them for binomial distribution sample where sample size=30"
   ]
  },
  {
   "cell_type": "markdown",
   "metadata": {},
   "source": [
    "Now we have to do the same for samplesize=8 "
   ]
  },
  {
   "cell_type": "code",
   "execution_count": 107,
   "metadata": {},
   "outputs": [],
   "source": [
    "l=[] #Here l is the list of all samples generated\n",
    "p=0.7  # as from  the of binomial probability distribution function p(x=k)=NcK.p^k.(q)^k\n",
    "q=1-p\n",
    "N=8\n",
    "mean=[]\n",
    "n=10000\n",
    "for i in range(0,n-1):\n",
    "    t=[]\n",
    "    for j in range(0,N):\n",
    "        u=random.uniform(0,1)\n",
    "        x=0\n",
    "        CDFProb=0\n",
    "        while(CDFProb<=u):\n",
    "            CDFProb+=(fact(N)/(fact(x)*fact(N-x)))*((p)**x)*(q)**(N-x)\n",
    "            x+=1\n",
    "        t.append(x)\n",
    "    mean.append(sum(t)/N)\n",
    "    l.append(t)"
   ]
  },
  {
   "cell_type": "code",
   "execution_count": 109,
   "metadata": {},
   "outputs": [],
   "source": [
    "mean.sort()"
   ]
  },
  {
   "cell_type": "code",
   "execution_count": 110,
   "metadata": {},
   "outputs": [],
   "source": [
    "unique=[]\n",
    "for i in range (0,len(mean)-1):\n",
    "    if mean[i]!=mean[i+1]:\n",
    "        unique.append(mean[i])\n",
    "unique.append(mean[i+1])"
   ]
  },
  {
   "cell_type": "code",
   "execution_count": 112,
   "metadata": {},
   "outputs": [],
   "source": [
    "frequency=[1]*len(unique)\n",
    "count=0\n",
    "for i in range(0,len(mean)-1):\n",
    "    if mean[i]==mean[i+1]:\n",
    "        frequency[count]+=1\n",
    "    else:\n",
    "        count+=1"
   ]
  },
  {
   "cell_type": "code",
   "execution_count": 113,
   "metadata": {},
   "outputs": [
    {
     "data": {
      "text/plain": [
       "<BarContainer object of 30 artists>"
      ]
     },
     "execution_count": 113,
     "metadata": {},
     "output_type": "execute_result"
    },
    {
     "data": {
      "image/png": "[encoded data removed]",
      "text/plain": [
       "<Figure size 432x288 with 1 Axes>"
      ]
     },
     "metadata": {},
     "output_type": "display_data"
    }
   ],
   "source": [
    "plt.bar(unique,frequency,0.05)"
   ]
  },
  {
   "cell_type": "markdown",
   "metadata": {},
   "source": [
    "Now we have to check the principle of Central Limit Theorem for repeated sampling 1000 times and when the population is poisson distributed."
   ]
  },
  {
   "cell_type": "code",
   "execution_count": 92,
   "metadata": {},
   "outputs": [],
   "source": [
    "N = 30\n",
    "m = 5\n",
    "n = 1000\n",
    "\n",
    "# as from  the of binomial probability distribution function p(x=k)=NcK.p^k.(q)^k\n",
    "\n",
    "\n",
    "for i in range(0,n-1):\n",
    "    t = []\n",
    "    for j in range(0,N):\n",
    "        x = 0\n",
    "        u = random.uniform(0,1)\n",
    "        CDFProb = 0\n",
    "        while (CDFProb<=u):\n",
    "            CDFProb+=(((math.e)**(-m))*(m**x))/fact(x)\n",
    "            x+=1\n",
    "        t.append(x)\n",
    "        \n",
    "    l.append(t)"
   ]
  },
  {
   "cell_type": "code",
   "execution_count": 97,
   "metadata": {},
   "outputs": [],
   "source": [
    "samplemean = []\n",
    "for i in range(0,n-1):\n",
    "    s = 0\n",
    "    for j in l[i]:\n",
    "        s+=j\n",
    "    s=s/N\n",
    "    samplemean.append(s)"
   ]
  },
  {
   "cell_type": "code",
   "execution_count": 99,
   "metadata": {},
   "outputs": [],
   "source": [
    "samplemean.sort()"
   ]
  },
  {
   "cell_type": "code",
   "execution_count": 100,
   "metadata": {},
   "outputs": [],
   "source": [
    "unique=[]\n",
    "for i in range (0,len(samplemean)-1):\n",
    "    if samplemean[i]!=samplemean[i+1]:\n",
    "        unique.append(samplemean[i])\n",
    "unique.append(samplemean[i+1])\n"
   ]
  },
  {
   "cell_type": "code",
   "execution_count": 101,
   "metadata": {},
   "outputs": [],
   "source": [
    "frequency=[1]*len(unique)\n",
    "count=0\n",
    "for i in range(0,len(samplemean)-1):\n",
    "    if samplemean[i]==samplemean[i+1]:\n",
    "        frequency[count]+=1\n",
    "    else:\n",
    "        count+=1"
   ]
  },
  {
   "cell_type": "code",
   "execution_count": 103,
   "metadata": {},
   "outputs": [
    {
     "data": {
      "text/plain": [
       "<BarContainer object of 77 artists>"
      ]
     },
     "execution_count": 103,
     "metadata": {},
     "output_type": "execute_result"
    },
    {
     "data": {
      "image/png": "[encoded data removed]",
      "text/plain": [
       "<Figure size 432x288 with 1 Axes>"
      ]
     },
     "metadata": {},
     "output_type": "display_data"
    }
   ],
   "source": [
    "plt.bar(unique,frequency,0.07)"
   ]
  },
  {
   "cell_type": "markdown",
   "metadata": {},
   "source": [
    "Now we have to do the same for samplesize=8"
   ]
  },
  {
   "cell_type": "code",
   "execution_count": 115,
   "metadata": {},
   "outputs": [],
   "source": [
    "l=[]\n",
    "samplemean=[]\n",
    "mean=5#Here the poission distribution function is (e^(-mean)*mean^k)/k!\n",
    "N=8\n",
    "n=10000\n",
    "for i in range(0,n-1):\n",
    "    t=[]\n",
    "    for j in range(0,N-1):\n",
    "        CDFProb=0\n",
    "        x=0\n",
    "        u=random.uniform(0,1)\n",
    "        while (CDFProb<=u):\n",
    "            CDFProb+=(((math.e)**(-mean))*(mean**x))/fact(x)\n",
    "            x+=1\n",
    "        t.append(x)\n",
    "    samplemean.append(sum(t)/N)\n",
    "    l.append(t)"
   ]
  },
  {
   "cell_type": "code",
   "execution_count": 116,
   "metadata": {},
   "outputs": [],
   "source": [
    "samplemean.sort()"
   ]
  },
  {
   "cell_type": "code",
   "execution_count": 117,
   "metadata": {},
   "outputs": [],
   "source": [
    "unique=[]\n",
    "for i in range (0,len(samplemean)-1):\n",
    "    if samplemean[i]!=samplemean[i+1]:\n",
    "        unique.append(samplemean[i])\n",
    "unique.append(samplemean[i+1])\n"
   ]
  },
  {
   "cell_type": "code",
   "execution_count": 118,
   "metadata": {},
   "outputs": [],
   "source": [
    "frequency=[1]*len(unique)\n",
    "count=0\n",
    "for i in range(0,len(samplemean)-1):\n",
    "    if samplemean[i]==samplemean[i+1]:\n",
    "        frequency[count]+=1\n",
    "    else:\n",
    "        count+=1"
   ]
  },
  {
   "cell_type": "code",
   "execution_count": 120,
   "metadata": {},
   "outputs": [
    {
     "data": {
      "text/plain": [
       "<BarContainer object of 43 artists>"
      ]
     },
     "execution_count": 120,
     "metadata": {},
     "output_type": "execute_result"
    },
    {
     "data": {
      "image/png": "[encoded data removed]",
      "text/plain": [
       "<Figure size 432x288 with 1 Axes>"
      ]
     },
     "metadata": {},
     "output_type": "display_data"
    }
   ],
   "source": [
    "plt.bar(unique,frequency,0.09)"
   ]
  },
  {
   "cell_type": "markdown",
   "metadata": {},
   "source": [
    "Conclusion : From this graph we can conclude that if we were to take samples of n=8 instead of n=30, we would get a similar distribution, but the variation among the sample means would be larger."
   ]
  },
  {
   "cell_type": "code",
   "execution_count": null,
   "metadata": {},
   "outputs": [],
   "source": []
  }
 ],
 "metadata": {
  "kernelspec": {
   "display_name": "Python 3",
   "language": "python",
   "name": "python3"
  },
  "language_info": {
   "codemirror_mode": {
    "name": "ipython",
    "version": 3
   },
   "file_extension": ".py",
   "mimetype": "text/x-python",
   "name": "python",
   "nbconvert_exporter": "python",
   "pygments_lexer": "ipython3",
   "version": "3.6.5"
  }
 },
 "nbformat": 4,
 "nbformat_minor": 2
}
