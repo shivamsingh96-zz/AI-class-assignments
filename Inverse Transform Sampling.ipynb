{
 "cells": [
  {
   "cell_type": "code",
   "execution_count": 1,
   "metadata": {},
   "outputs": [],
   "source": [
    "import random\n",
    "import math\n",
    "import matplotlib.pyplot as plt"
   ]
  },
  {
   "cell_type": "code",
   "execution_count": 6,
   "metadata": {},
   "outputs": [],
   "source": [
    "upperlimit=17.5\n",
    "l=0.039\n",
    "mode=3.5\n",
    "d=0.039+(17.5-0.039)/30"
   ]
  },
  {
   "cell_type": "code",
   "execution_count": 7,
   "metadata": {
    "scrolled": true
   },
   "outputs": [
    {
     "name": "stdout",
     "output_type": "stream",
     "text": [
      "25\n"
     ]
    }
   ],
   "source": [
    "arr=[]\n",
    "n1=1000000\n",
    "for i in range(0,n1):\n",
    "    p=random.uniform(0.001,1)\n",
    "    x=math.ceil((math.sqrt(2*(mode)**(2)*(math.log(1/((2.718**(((-l)**(2))/(2*(mode)**(2))))-p)))))/d)\n",
    "    arr.append(x) \n",
    "print(max(arr))"
   ]
  },
  {
   "cell_type": "code",
   "execution_count": 9,
   "metadata": {},
   "outputs": [],
   "source": [
    "def heapify(arr, n, i):\n",
    "    largest = i \n",
    "    l = 2 * i + 1   \n",
    "    r = 2 * i + 2     \n",
    "\n",
    "    if l < n and arr[i] < arr[l]:\n",
    "        largest = l\n",
    "    if r < n and arr[largest] < arr[r]:\n",
    "        largest = r\n",
    "\n",
    "    if largest != i:\n",
    "        arr[i],arr[largest] = arr[largest],arr[i] \n",
    "\n",
    "        heapify(arr, n, largest)\n",
    "n = len(arr)\n",
    "\n",
    "for i in range(n, -1, -1):\n",
    "    heapify(arr, n, i)\n",
    "\n",
    "for i in range(n-1, 0, -1):\n",
    "    arr[i], arr[0] = arr[0], arr[i]\n",
    "    heapify(arr, i, 0)"
   ]
  },
  {
   "cell_type": "code",
   "execution_count": 10,
   "metadata": {},
   "outputs": [
    {
     "name": "stdout",
     "output_type": "stream",
     "text": [
      "[1, 2, 3, 4, 5, 6, 7, 8, 9, 10, 11, 12, 13, 14, 15, 16, 17, 18, 19, 20, 21, 22, 23, 24, 25]\n"
     ]
    }
   ],
   "source": [
    "unique=[]\n",
    "for i in range(0,n1-1):\n",
    "    if arr[i] != arr[i+1]:\n",
    "        unique.append(arr[i])\n",
    "unique.append(arr[i+1])\n",
    "print(unique)"
   ]
  },
  {
   "cell_type": "code",
   "execution_count": 11,
   "metadata": {},
   "outputs": [
    {
     "name": "stdout",
     "output_type": "stream",
     "text": [
      "[1, 1, 1, 1, 1, 1, 1, 1, 1, 1, 1, 1, 1, 1, 1, 1, 1, 1, 1, 1, 1, 1, 1, 1, 1]\n"
     ]
    }
   ],
   "source": [
    "frequency=[1]*len(unique)\n",
    "print(frequency)"
   ]
  },
  {
   "cell_type": "code",
   "execution_count": 12,
   "metadata": {},
   "outputs": [
    {
     "name": "stdout",
     "output_type": "stream",
     "text": [
      "[14649, 45619, 70892, 90467, 102867, 107304, 105601, 97392, 85451, 71918, 58610, 45386, 33708, 24261, 16735, 11210, 7331, 4531, 2676, 1586, 883, 460, 280, 144, 39]\n"
     ]
    }
   ],
   "source": [
    "count=0\n",
    "for i in range(0,n1-1):\n",
    "    if arr[i]==arr[i+1]:\n",
    "        frequency[count]+=1\n",
    "    else:\n",
    "        count+=1\n",
    "print(frequency)"
   ]
  },
  {
   "cell_type": "code",
   "execution_count": 14,
   "metadata": {},
   "outputs": [
    {
     "data": {
      "text/plain": [
       "<BarContainer object of 25 artists>"
      ]
     },
     "execution_count": 14,
     "metadata": {},
     "output_type": "execute_result"
    },
    {
     "data": {
      "image/png": "[encoded data removed]",
      "text/plain": [
       "<Figure size 432x288 with 1 Axes>"
      ]
     },
     "metadata": {},
     "output_type": "display_data"
    }
   ],
   "source": [
    "plt.bar(unique,frequency,0)"
   ]
  },
  {
   "cell_type": "code",
   "execution_count": null,
   "metadata": {},
   "outputs": [],
   "source": []
  }
 ],
 "metadata": {
  "kernelspec": {
   "display_name": "Python 3",
   "language": "python",
   "name": "python3"
  },
  "language_info": {
   "codemirror_mode": {
    "name": "ipython",
    "version": 3
   },
   "file_extension": ".py",
   "mimetype": "text/x-python",
   "name": "python",
   "nbconvert_exporter": "python",
   "pygments_lexer": "ipython3",
   "version": "3.6.5"
  }
 },
 "nbformat": 4,
 "nbformat_minor": 2
}
